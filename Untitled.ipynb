{
 "cells": [
  {
   "cell_type": "code",
   "execution_count": 1,
   "id": "375d656a-eece-4b63-ad3b-57ff51f006e1",
   "metadata": {},
   "outputs": [],
   "source": [
    "from autodiff.autodiff import Variable\n",
    "from autodiff.visualizations import *\n",
    "import numpy as np"
   ]
  },
  {
   "cell_type": "code",
   "execution_count": 2,
   "id": "15116317-b4cd-4073-b484-0a00db44b91c",
   "metadata": {},
   "outputs": [],
   "source": [
    "x = [Variable(np.random.uniform(-10, 10, size=(3,))) for _ in range(3)]"
   ]
  },
  {
   "cell_type": "code",
   "execution_count": 3,
   "id": "da94dbb2-af62-41d8-9429-66e7cadc6989",
   "metadata": {},
   "outputs": [
    {
     "data": {
      "text/plain": [
       "[Variable(value=[ 8.39072878 -8.5497694  -6.04095266], grad=[0. 0. 0.], name=\"x_0\", op=\"\", n_parents=0),\n",
       " Variable(value=[-1.60246716 -5.34999752  0.1089079 ], grad=[0. 0. 0.], name=\"x_1\", op=\"\", n_parents=0),\n",
       " Variable(value=[ 2.95193876 -8.19441672 -0.01161082], grad=[0. 0. 0.], name=\"x_2\", op=\"\", n_parents=0)]"
      ]
     },
     "execution_count": 3,
     "metadata": {},
     "output_type": "execute_result"
    }
   ],
   "source": [
    "x"
   ]
  },
  {
   "cell_type": "code",
   "execution_count": 4,
   "id": "4f7a391a-5cfa-4d9c-a484-026515b37bc4",
   "metadata": {},
   "outputs": [],
   "source": [
    "class nnModule:\n",
    "    def params(self):\n",
    "        return []"
   ]
  },
  {
   "cell_type": "code",
   "execution_count": 5,
   "id": "acdc7a43-40fa-4efe-b386-67d62b1078e2",
   "metadata": {},
   "outputs": [],
   "source": [
    "class neuron(nnModule):\n",
    "    def __init__(self, n_in, dim_in, linear=True):\n",
    "        self.n_in = n_in       # number of training examples\n",
    "        self.dim_in = dim_in   # dimension of each training example\n",
    "        self.linear = linear\n",
    "        self.w = [Variable(np.random.uniform(-1, 1, size=dim_in)) for _ in range(n_in)]\n",
    "        self.b = Variable(np.zeros(dim_in))\n",
    "\n",
    "    def __call__(self, x):\n",
    "        out = sum((np.dot(wi, xi) for wi,xi in zip(self.w, x)), self.b)\n",
    "        return out.relu() if not self.linear else out\n",
    "        \n",
    "    def params(self):\n",
    "        return {\"weights\": self.w, \"biases\": self.b}\n",
    "\n",
    "    def __repr__(self):\n",
    "        return f\"{'Linear' if self.linear else 'Relu'}Neuron(dim_in={self.dim_in}, n_in={self.n_in})\""
   ]
  },
  {
   "cell_type": "code",
   "execution_count": 6,
   "id": "85196113-fc77-49ea-aae6-fd98874dbe49",
   "metadata": {},
   "outputs": [],
   "source": [
    "n = neuron(3, (3,))\n",
    "out = n(x)"
   ]
  },
  {
   "cell_type": "code",
   "execution_count": 7,
   "id": "4c7b4d4a-3015-488b-b874-9ca17507b5ab",
   "metadata": {},
   "outputs": [
    {
     "data": {
      "text/plain": [
       "[Variable(value=[ 0.98567276  0.80395869 -0.26656909], grad=[0. 0. 0.], name=\"x_3\", op=\"\", n_parents=0),\n",
       " Variable(value=[ 0.8995166   0.455004   -0.99262506], grad=[0. 0. 0.], name=\"x_4\", op=\"\", n_parents=0),\n",
       " Variable(value=[-0.18783584  0.07538262 -0.90799932], grad=[0. 0. 0.], name=\"x_5\", op=\"\", n_parents=0)]"
      ]
     },
     "execution_count": 7,
     "metadata": {},
     "output_type": "execute_result"
    }
   ],
   "source": [
    "n.w"
   ]
  },
  {
   "cell_type": "code",
   "execution_count": 22,
   "id": "e9698814-f34d-4e4e-95eb-325550221d73",
   "metadata": {},
   "outputs": [],
   "source": [
    "class layer(nnModule):\n",
    "    def __init__(self, n_neuron, n_in, dim_in, linear=True):\n",
    "        self.neurons = [neuron(n_in, dim_in, linear) for _ in range(n_neuron)]\n",
    "        self.linear = linear\n",
    "        self.W = [[self.neurons[i].w[j] for j in range(len(self.neurons[0].w))] for i in range(n_neuron)]\n",
    "        self.B = [self.neurons[i].b for i in range(n_neuron)]\n",
    "        \n",
    "    def __call__(self, x):\n",
    "        # iterative implementation\n",
    "        return [n(x) for n in self.neurons]\n",
    "        # out = (np.matmul(self.W, x) + self.B).tolist()  # vectorized implementation\n",
    "        # return out\n",
    "        \n",
    "    def params(self):\n",
    "        return [n.params() for n in self.neurons]\n",
    "\n",
    "    def __repr__(self):\n",
    "        return f\"Layer(neurons={','.join(str(n) for n in self.neurons)})\""
   ]
  },
  {
   "cell_type": "code",
   "execution_count": 23,
   "id": "b29a71eb-d1d0-4a35-b5ad-c950099c825a",
   "metadata": {},
   "outputs": [
    {
     "data": {
      "text/plain": [
       "[Variable(value=[8.36417864 0.         0.        ], grad=[0. 0. 0.], name=\"x_127\", op=\"relu\", n_parents=1),\n",
       " Variable(value=[0.         1.67655135 4.41462868], grad=[0. 0. 0.], name=\"x_134\", op=\"relu\", n_parents=1),\n",
       " Variable(value=[2.18373593 4.07714377 0.        ], grad=[0. 0. 0.], name=\"x_141\", op=\"relu\", n_parents=1)]"
      ]
     },
     "execution_count": 23,
     "metadata": {},
     "output_type": "execute_result"
    }
   ],
   "source": [
    "l1 = layer(3, 3, (3,), linear=False)  # 3 neurons, each neuron accepts 2 inputs, each input has dimension (1, 3)\n",
    "l1(x)"
   ]
  },
  {
   "cell_type": "code",
   "execution_count": null,
   "id": "bbf80300-2dfe-44a6-a25a-7b385babc812",
   "metadata": {},
   "outputs": [],
   "source": [
    "class MLP(Module):\n",
    "    def __init__(self, n_in, dim_in, layer_sizes):\n",
    "        self.sizes = [n_in] + layer_sizes\n",
    "        self.layers = [layer(self.sizes[i+1], self.sizes[i], dim_in, )]"
   ]
  }
 ],
 "metadata": {
  "kernelspec": {
   "display_name": "Python 3 (ipykernel)",
   "language": "python",
   "name": "python3"
  },
  "language_info": {
   "codemirror_mode": {
    "name": "ipython",
    "version": 3
   },
   "file_extension": ".py",
   "mimetype": "text/x-python",
   "name": "python",
   "nbconvert_exporter": "python",
   "pygments_lexer": "ipython3",
   "version": "3.10.13"
  }
 },
 "nbformat": 4,
 "nbformat_minor": 5
}
